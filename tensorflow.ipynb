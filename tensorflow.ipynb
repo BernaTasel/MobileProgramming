{
  "nbformat": 4,
  "nbformat_minor": 0,
  "metadata": {
    "colab": {
      "name": "tensorflow.ipynb",
      "provenance": [],
      "collapsed_sections": [],
      "toc_visible": true,
      "authorship_tag": "ABX9TyPmrNy03YWKzJM5p+/HvyqO",
      "include_colab_link": true
    },
    "kernelspec": {
      "name": "python3",
      "display_name": "Python 3"
    }
  },
  "cells": [
    {
      "cell_type": "markdown",
      "metadata": {
        "id": "view-in-github",
        "colab_type": "text"
      },
      "source": [
        "<a href=\"https://colab.research.google.com/github/BernaTasel/MobileProgramming/blob/master/tensorflow.ipynb\" target=\"_parent\"><img src=\"https://colab.research.google.com/assets/colab-badge.svg\" alt=\"Open In Colab\"/></a>"
      ]
    },
    {
      "cell_type": "code",
      "metadata": {
        "id": "Y_SDFS4UK4Zk"
      },
      "source": [
        "#kütüphaneler\n",
        "import collections\n",
        "import io\n",
        "import math\n",
        "import os\n",
        "import random\n",
        "from six.moves import urllib\n",
        "\n",
        "from IPython.display import clear_output, Image, display, HTML\n",
        "\n",
        "import tensorflow.compat.v1 as tf\n",
        "tf.disable_v2_behavior()\n",
        "\n",
        "import tensorflow_hub as hub\n",
        "\n",
        "import numpy as np\n",
        "import matplotlib.pyplot as plt\n",
        "import seaborn as sns\n",
        "import sklearn.metrics as sk_metrics\n",
        "\n",
        "import time"
      ],
      "execution_count": 2,
      "outputs": []
    },
    {
      "cell_type": "code",
      "metadata": {
        "id": "yyS7xef-LI7z",
        "outputId": "1e8b8ad7-09b2-4b87-9d8f-e8a57347d705",
        "colab": {
          "base_uri": "https://localhost:8080/",
          "height": 34
        }
      },
      "source": [
        "#drive bağlantısı\n",
        "from google.colab import drive\n",
        "drive.mount('/content/drive')"
      ],
      "execution_count": 5,
      "outputs": [
        {
          "output_type": "stream",
          "text": [
            "Mounted at /content/drive\n"
          ],
          "name": "stdout"
        }
      ]
    },
    {
      "cell_type": "code",
      "metadata": {
        "id": "CxD0wDpQOaeH"
      },
      "source": [
        "#rename the files\n",
        "for count, filename in enumerate(os.listdir(\"drive/My Drive/DietApp/PlateDataSet/test-non-plate/\")):\n",
        "  dst =\"test-non-plate-\" + str(count) + \".jpg\"\n",
        "  src ='drive/My Drive/DietApp/PlateDataSet/test-non-plate/' + filename \n",
        "  dst ='drive/My Drive/DietApp/PlateDataSet/test-non-plate/'+ dst\n",
        "  os.rename(src, dst) \n"
      ],
      "execution_count": 9,
      "outputs": []
    },
    {
      "cell_type": "code",
      "metadata": {
        "id": "VsM7tjoyZB82"
      },
      "source": [
        "#veriseti ve classları tanımlama\n",
        "PLATE_DATA = 'drive/My Drive/DietApp/PlateDataSet'\n",
        "def make_train_and_test_sets():\n",
        "  train_examples, test_examples = [], []\n",
        "  shuffler = random.Random(RANDOM_SEED)\n",
        "  is_root = True\n",
        "  for (dirname, subdirs, filenames) in tf.gfile.Walk(PLATE_DATA):\n",
        "      if is_root:\n",
        "        subdirs = sorted(subdirs)\n",
        "        print(subdirs)\n",
        "        lasses = collections.OrderedDict(enumerate(subdirs))\n",
        "        label_to_class = dict([(x, i) for i, x in enumerate(subdirs)])\n",
        "        is_root = False"
      ],
      "execution_count": 19,
      "outputs": []
    },
    {
      "cell_type": "code",
      "metadata": {
        "id": "znYe4AXdlJPm",
        "outputId": "1bd2e168-c2d0-4b07-d179-4dcca7e385fc",
        "colab": {
          "base_uri": "https://localhost:8080/",
          "height": 34
        }
      },
      "source": [
        "data = 'drive/My Drive/DietApp/PlateDataSet'\n",
        "folders = os.listdir(data)\n",
        "print(folders)"
      ],
      "execution_count": 20,
      "outputs": [
        {
          "output_type": "stream",
          "text": [
            "['test-non-plate', 'test-plate', 'train']\n"
          ],
          "name": "stdout"
        }
      ]
    },
    {
      "cell_type": "code",
      "metadata": {
        "id": "XbG84HmklsXl"
      },
      "source": [
        ""
      ],
      "execution_count": null,
      "outputs": []
    }
  ]
}